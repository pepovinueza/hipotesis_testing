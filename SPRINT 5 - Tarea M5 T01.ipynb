{
 "cells": [
  {
   "cell_type": "markdown",
   "id": "751e59c9",
   "metadata": {},
   "source": [
    "# <span style=color:blue><b>SPRINT 5 - Tarea M5 T01</b></span>"
   ]
  },
  {
   "cell_type": "markdown",
   "id": "466bed01",
   "metadata": {},
   "source": [
    "## Ejercicio 1\n",
    "<span style=color:green><b><i>Descarga el dataset adjunto de datos oficiales de la UEFA y selecciona un atributo del conjunto de datos. Calcula el p-valor y di si rechaza la hipótesis nula cogiendo un alfa de 5%.</i></b></span>"
   ]
  },
  {
   "cell_type": "code",
   "execution_count": 1,
   "id": "2033ab4e",
   "metadata": {},
   "outputs": [],
   "source": [
    "import pandas as pd"
   ]
  },
  {
   "cell_type": "code",
   "execution_count": 2,
   "id": "1a65e8ea",
   "metadata": {},
   "outputs": [],
   "source": [
    "# Open the choosen file\n",
    "BasePath = \"C:/Users/Pepo/Desktop/Data Science/Barcelona Activa\"\n",
    "Archivo = BasePath + \"/Sprint 5. Introducción al Test de Hipótesis y al Machine Learning\"\n",
    "\n",
    "uefa = pd.read_csv(Archivo + '/Tarea 1_UEFA/Lligues europees UEFA.csv', sep=';', encoding='ISO-8859-1')"
   ]
  },
  {
   "cell_type": "code",
   "execution_count": 3,
   "id": "2cb161a1",
   "metadata": {},
   "outputs": [
    {
     "name": "stdout",
     "output_type": "stream",
     "text": [
      "<class 'pandas.core.frame.DataFrame'>\n",
      "RangeIndex: 98 entries, 0 to 97\n",
      "Data columns (total 21 columns):\n",
      " #   Column           Non-Null Count  Dtype  \n",
      "---  ------           --------------  -----  \n",
      " 0   Rk               98 non-null     int64  \n",
      " 1   Squad            98 non-null     object \n",
      " 2   Country          98 non-null     object \n",
      " 3   LgRk             98 non-null     int64  \n",
      " 4   MP               98 non-null     int64  \n",
      " 5   W                98 non-null     int64  \n",
      " 6   D                98 non-null     int64  \n",
      " 7   L                98 non-null     int64  \n",
      " 8   GF               98 non-null     int64  \n",
      " 9   GA               98 non-null     int64  \n",
      " 10  GD               98 non-null     int64  \n",
      " 11  Pts              98 non-null     int64  \n",
      " 12  Pts/G            98 non-null     float64\n",
      " 13  xG               98 non-null     float64\n",
      " 14  xGA              98 non-null     float64\n",
      " 15  xGD              98 non-null     float64\n",
      " 16  xGD/90           98 non-null     float64\n",
      " 17  Last 5           98 non-null     object \n",
      " 18  Attendance       98 non-null     int64  \n",
      " 19  Top Team Scorer  98 non-null     object \n",
      " 20  Goalkeeper       98 non-null     object \n",
      "dtypes: float64(5), int64(11), object(5)\n",
      "memory usage: 16.2+ KB\n"
     ]
    }
   ],
   "source": [
    "uefa.info()"
   ]
  },
  {
   "cell_type": "code",
   "execution_count": 4,
   "id": "6471c454",
   "metadata": {},
   "outputs": [
    {
     "data": {
      "text/html": [
       "<div>\n",
       "<style scoped>\n",
       "    .dataframe tbody tr th:only-of-type {\n",
       "        vertical-align: middle;\n",
       "    }\n",
       "\n",
       "    .dataframe tbody tr th {\n",
       "        vertical-align: top;\n",
       "    }\n",
       "\n",
       "    .dataframe thead th {\n",
       "        text-align: right;\n",
       "    }\n",
       "</style>\n",
       "<table border=\"1\" class=\"dataframe\">\n",
       "  <thead>\n",
       "    <tr style=\"text-align: right;\">\n",
       "      <th></th>\n",
       "      <th>Rk</th>\n",
       "      <th>Squad</th>\n",
       "      <th>Country</th>\n",
       "      <th>LgRk</th>\n",
       "      <th>MP</th>\n",
       "      <th>W</th>\n",
       "      <th>D</th>\n",
       "      <th>L</th>\n",
       "      <th>GF</th>\n",
       "      <th>GA</th>\n",
       "      <th>GD</th>\n",
       "      <th>Pts</th>\n",
       "      <th>Pts/G</th>\n",
       "      <th>xG</th>\n",
       "      <th>xGA</th>\n",
       "      <th>xGD</th>\n",
       "      <th>xGD/90</th>\n",
       "      <th>Last 5</th>\n",
       "      <th>Attendance</th>\n",
       "      <th>Top Team Scorer</th>\n",
       "      <th>Goalkeeper</th>\n",
       "    </tr>\n",
       "  </thead>\n",
       "  <tbody>\n",
       "    <tr>\n",
       "      <th>0</th>\n",
       "      <td>1</td>\n",
       "      <td>Manchester City</td>\n",
       "      <td>ENG</td>\n",
       "      <td>1</td>\n",
       "      <td>37</td>\n",
       "      <td>28</td>\n",
       "      <td>6</td>\n",
       "      <td>3</td>\n",
       "      <td>96</td>\n",
       "      <td>24</td>\n",
       "      <td>72</td>\n",
       "      <td>90</td>\n",
       "      <td>2.43</td>\n",
       "      <td>86.1</td>\n",
       "      <td>26.8</td>\n",
       "      <td>59.3</td>\n",
       "      <td>1.60</td>\n",
       "      <td>W W W W D</td>\n",
       "      <td>52739</td>\n",
       "      <td>Kevin De Bruyne - 15</td>\n",
       "      <td>Ederson</td>\n",
       "    </tr>\n",
       "    <tr>\n",
       "      <th>1</th>\n",
       "      <td>2</td>\n",
       "      <td>Liverpool</td>\n",
       "      <td>ENG</td>\n",
       "      <td>2</td>\n",
       "      <td>36</td>\n",
       "      <td>26</td>\n",
       "      <td>8</td>\n",
       "      <td>2</td>\n",
       "      <td>89</td>\n",
       "      <td>24</td>\n",
       "      <td>65</td>\n",
       "      <td>86</td>\n",
       "      <td>2.39</td>\n",
       "      <td>84.6</td>\n",
       "      <td>33.1</td>\n",
       "      <td>51.4</td>\n",
       "      <td>1.43</td>\n",
       "      <td>W W W D W</td>\n",
       "      <td>53367</td>\n",
       "      <td>Mohamed Salah - 22</td>\n",
       "      <td>Alisson</td>\n",
       "    </tr>\n",
       "    <tr>\n",
       "      <th>2</th>\n",
       "      <td>3</td>\n",
       "      <td>Real Madrid</td>\n",
       "      <td>ESP</td>\n",
       "      <td>1</td>\n",
       "      <td>37</td>\n",
       "      <td>26</td>\n",
       "      <td>7</td>\n",
       "      <td>4</td>\n",
       "      <td>80</td>\n",
       "      <td>31</td>\n",
       "      <td>49</td>\n",
       "      <td>85</td>\n",
       "      <td>2.30</td>\n",
       "      <td>73.0</td>\n",
       "      <td>45.8</td>\n",
       "      <td>27.2</td>\n",
       "      <td>0.73</td>\n",
       "      <td>W W L W D</td>\n",
       "      <td>40624</td>\n",
       "      <td>Karim Benzema - 27</td>\n",
       "      <td>Thibaut Courtois</td>\n",
       "    </tr>\n",
       "    <tr>\n",
       "      <th>3</th>\n",
       "      <td>4</td>\n",
       "      <td>Bayern Munich</td>\n",
       "      <td>GER</td>\n",
       "      <td>1</td>\n",
       "      <td>34</td>\n",
       "      <td>24</td>\n",
       "      <td>5</td>\n",
       "      <td>5</td>\n",
       "      <td>97</td>\n",
       "      <td>37</td>\n",
       "      <td>60</td>\n",
       "      <td>77</td>\n",
       "      <td>2.26</td>\n",
       "      <td>88.1</td>\n",
       "      <td>37.1</td>\n",
       "      <td>51.0</td>\n",
       "      <td>1.50</td>\n",
       "      <td>W W L D D</td>\n",
       "      <td>33176</td>\n",
       "      <td>Robert Lewandowski - 35</td>\n",
       "      <td>Manuel Neuer</td>\n",
       "    </tr>\n",
       "    <tr>\n",
       "      <th>4</th>\n",
       "      <td>5</td>\n",
       "      <td>Paris S-G</td>\n",
       "      <td>FRA</td>\n",
       "      <td>1</td>\n",
       "      <td>37</td>\n",
       "      <td>25</td>\n",
       "      <td>8</td>\n",
       "      <td>4</td>\n",
       "      <td>85</td>\n",
       "      <td>36</td>\n",
       "      <td>49</td>\n",
       "      <td>83</td>\n",
       "      <td>2.24</td>\n",
       "      <td>71.6</td>\n",
       "      <td>38.1</td>\n",
       "      <td>33.4</td>\n",
       "      <td>0.90</td>\n",
       "      <td>W D D D W</td>\n",
       "      <td>41188</td>\n",
       "      <td>Kylian Mbappé - 25</td>\n",
       "      <td>Keylor Navas</td>\n",
       "    </tr>\n",
       "  </tbody>\n",
       "</table>\n",
       "</div>"
      ],
      "text/plain": [
       "   Rk            Squad Country  LgRk  MP  ...  xGD/90     Last 5  Attendance          Top Team Scorer        Goalkeeper\n",
       "0   1  Manchester City     ENG     1  37  ...    1.60  W W W W D       52739     Kevin De Bruyne - 15           Ederson\n",
       "1   2        Liverpool     ENG     2  36  ...    1.43  W W W D W       53367       Mohamed Salah - 22           Alisson\n",
       "2   3      Real Madrid     ESP     1  37  ...    0.73  W W L W D       40624       Karim Benzema - 27  Thibaut Courtois\n",
       "3   4    Bayern Munich     GER     1  34  ...    1.50  W W L D D       33176  Robert Lewandowski - 35      Manuel Neuer\n",
       "4   5        Paris S-G     FRA     1  37  ...    0.90  W D D D W       41188       Kylian Mbappé - 25      Keylor Navas\n",
       "\n",
       "[5 rows x 21 columns]"
      ]
     },
     "execution_count": 4,
     "metadata": {},
     "output_type": "execute_result"
    }
   ],
   "source": [
    "pd.options.display.max_columns = 0\n",
    "uefa.head()"
   ]
  },
  {
   "cell_type": "markdown",
   "id": "862da90c",
   "metadata": {},
   "source": [
    "Al tratarse de un solo atributo, se propone analizar que distribución tienen los goles a favor (GF) marcados por los equipos.  \n",
    "Se propone utilizar lo siguiente:  \n",
    "\n",
    "**Shapiro-Wilk Test**  \n",
    "*Tests whether a data sample has a Gaussian distribution.*\n",
    "  \n",
    "**Ho:** GF (Goals For) has a Gaussian distribution.  \n",
    "**Ha:** GF (Goals For) does not have a Gaussian distribution."
   ]
  },
  {
   "cell_type": "code",
   "execution_count": 14,
   "id": "6f4aeae8",
   "metadata": {},
   "outputs": [
    {
     "name": "stdout",
     "output_type": "stream",
     "text": [
      "stat=0.943, p=0.000\n",
      "Probably not Gaussian\n"
     ]
    }
   ],
   "source": [
    "# Shapiro-Wilk Normality Test\n",
    "from scipy.stats import shapiro\n",
    "stat, p = shapiro(uefa.GF)\n",
    "print('stat=%.3f, p=%.3f' % (stat, p))\n",
    "if p > 0.05:\n",
    "\tprint('Probably Gaussian')\n",
    "else:\n",
    "\tprint('Probably not Gaussian')"
   ]
  },
  {
   "cell_type": "markdown",
   "id": "4f781f11",
   "metadata": {},
   "source": [
    "**R:** Se rechaza Ho ya que p = 0.000 < 5%, por la tanto GF **no tiene una distribución normal.**"
   ]
  },
  {
   "cell_type": "code",
   "execution_count": 15,
   "id": "27657b20",
   "metadata": {},
   "outputs": [],
   "source": [
    "import matplotlib.pyplot as plt"
   ]
  },
  {
   "cell_type": "code",
   "execution_count": 53,
   "id": "613ef56a",
   "metadata": {},
   "outputs": [
    {
     "data": {
      "text/plain": [
       "(array([ 1.,  3., 10.,  8., 13.,  8.,  8.,  8.,  6.,  7.,  7.,  5.,  2.,\n",
       "         3.,  0.,  4.,  2.,  1.,  0.,  2.]),\n",
       " array([23. , 26.7, 30.4, 34.1, 37.8, 41.5, 45.2, 48.9, 52.6, 56.3, 60. ,\n",
       "        63.7, 67.4, 71.1, 74.8, 78.5, 82.2, 85.9, 89.6, 93.3, 97. ]),\n",
       " <BarContainer object of 20 artists>)"
      ]
     },
     "execution_count": 53,
     "metadata": {},
     "output_type": "execute_result"
    },
    {
     "data": {
      "image/png": "[encoded data removed]",
      "text/plain": [
       "<Figure size 432x288 with 1 Axes>"
      ]
     },
     "metadata": {
      "needs_background": "light"
     },
     "output_type": "display_data"
    }
   ],
   "source": [
    "plt.hist(uefa.GF, 20)"
   ]
  },
  {
   "cell_type": "markdown",
   "id": "ffd271e2",
   "metadata": {},
   "source": [
    "## Ejercicio 2\n",
    "<span style=color:green><b><i>Con el mismo dataset selecciona otros dos atributos del conjunto de datos. Calcula los p-valores y di si rechazan la hipótesis nula cogiendo un alfa de 5%.</i></b></span>"
   ]
  },
  {
   "cell_type": "markdown",
   "id": "ea5236dc",
   "metadata": {},
   "source": [
    "Al tratarse de 2 atributos, se propone analizar que correlación tienen: los goles diferencia (GD) vs. la expectativa de goles diferencia(xGD).  \n",
    "Se utiliza lo siguiente:  \n",
    "  \n",
    "**Pearson’s Correlation Coefficient**  \n",
    "*Tests whether two samples have a linear relationship.*  \n",
    "  \n",
    "**Ho:** the two samples are independent.  \n",
    "**Ha:** there is a dependency between the samples."
   ]
  },
  {
   "cell_type": "code",
   "execution_count": 54,
   "id": "1669d7fd",
   "metadata": {},
   "outputs": [
    {
     "name": "stdout",
     "output_type": "stream",
     "text": [
      "stat=0.935, p=0.000\n",
      "Probably dependent\n"
     ]
    }
   ],
   "source": [
    "# Pearson's Correlation test\n",
    "from scipy.stats import pearsonr\n",
    "data1 = uefa.GD\n",
    "data2 = uefa.xGD\n",
    "stat, p = pearsonr(data1, data2)\n",
    "print('stat=%.3f, p=%.3f' % (stat, p))\n",
    "if p > 0.05:\n",
    "\tprint('Probably independent')\n",
    "else:\n",
    "\tprint('Probably dependent')"
   ]
  },
  {
   "cell_type": "markdown",
   "id": "bc857637",
   "metadata": {},
   "source": [
    "**R:** Se rechaza Ho ya que p = 0.000 < 5%, por la tanto GF y xG tienen una correlación lineal positiva (valor cercano a 1, stat=0.935)"
   ]
  },
  {
   "cell_type": "code",
   "execution_count": 55,
   "id": "da0657f0",
   "metadata": {},
   "outputs": [
    {
     "data": {
      "text/plain": [
       "(array([ 1.,  2.,  7.,  5.,  8.,  7., 14.,  8.,  7.,  7.,  8.,  7.,  7.,\n",
       "         5.,  1.,  0.,  1.,  0.,  2.,  1.]),\n",
       " array([-40.4  , -35.415, -30.43 , -25.445, -20.46 , -15.475, -10.49 ,\n",
       "         -5.505,  -0.52 ,   4.465,   9.45 ,  14.435,  19.42 ,  24.405,\n",
       "         29.39 ,  34.375,  39.36 ,  44.345,  49.33 ,  54.315,  59.3  ]),\n",
       " <BarContainer object of 20 artists>)"
      ]
     },
     "execution_count": 55,
     "metadata": {},
     "output_type": "execute_result"
    },
    {
     "data": {
      "image/png": "[encoded data removed]",
      "text/plain": [
       "<Figure size 432x288 with 1 Axes>"
      ]
     },
     "metadata": {
      "needs_background": "light"
     },
     "output_type": "display_data"
    }
   ],
   "source": [
    "plt.hist(data1, 20)\n",
    "plt.hist(data2, 20)"
   ]
  },
  {
   "cell_type": "code",
   "execution_count": 66,
   "id": "ab1f7228",
   "metadata": {},
   "outputs": [
    {
     "data": {
      "text/plain": [
       "[<matplotlib.lines.Line2D at 0x1bd82b9cd90>]"
      ]
     },
     "execution_count": 66,
     "metadata": {},
     "output_type": "execute_result"
    },
    {
     "data": {
      "image/png": "[encoded data removed]",
      "text/plain": [
       "<Figure size 432x288 with 1 Axes>"
      ]
     },
     "metadata": {
      "needs_background": "light"
     },
     "output_type": "display_data"
    }
   ],
   "source": [
    "from scipy import stats\n",
    "\n",
    "slope, intercept, r, p, std_err = stats.linregress(data1, data2)\n",
    "\n",
    "def myfunc(data1):\n",
    "  return slope * data1 + intercept\n",
    "\n",
    "mymodel = list(map(myfunc, data1))\n",
    "\n",
    "plt.scatter(data1, data2)\n",
    "plt.plot(data1, mymodel)"
   ]
  },
  {
   "cell_type": "code",
   "execution_count": 72,
   "id": "e8763dd4",
   "metadata": {},
   "outputs": [
    {
     "name": "stdout",
     "output_type": "stream",
     "text": [
      "0.935\n"
     ]
    }
   ],
   "source": [
    "from scipy import stats\n",
    "\n",
    "slope, intercept, r, p, std_err = stats.linregress(data1, data2)\n",
    "\n",
    "print(round(r,3))"
   ]
  },
  {
   "cell_type": "markdown",
   "id": "fb12eb5f",
   "metadata": {},
   "source": [
    "## Ejercicio 3\n",
    "<span style=color:green><b><i>Continúa con el conjunto de datos adjunto y selecciona tres atributos del conjunto de datos. Calcula el p-valor y di si rechaza la hipótesis nula cogiendo un alfa de 5%.</i></b></span>"
   ]
  },
  {
   "cell_type": "markdown",
   "id": "1ddc7098",
   "metadata": {},
   "source": [
    "Al tratarse de 3 atributos, se propone analizar que distribución tienen: gol diferencia (GD), expectativa de gol diferencia (xGD) y los puntos (Pts).  \n",
    "Se utiliza lo siguiente:  \n",
    "  \n",
    "**Friedman Test**  \n",
    "*Tests whether the distributions of two or more paired samples are equal or not.*  \n",
    "  \n",
    "**Ho:** the distributions of all samples are equal.  \n",
    "**Ha:** the distributions of one or more samples are not equal."
   ]
  },
  {
   "cell_type": "code",
   "execution_count": 56,
   "id": "8840ccdf",
   "metadata": {},
   "outputs": [
    {
     "name": "stdout",
     "output_type": "stream",
     "text": [
      "stat=147.790, p=0.000\n",
      "Probably different distributions\n"
     ]
    }
   ],
   "source": [
    "# Friedman Test\n",
    "from scipy.stats import friedmanchisquare\n",
    "data1 = uefa.GD\n",
    "data2 = uefa.xGD\n",
    "data3 = uefa.Pts\n",
    "stat, p = friedmanchisquare(data1, data2, data3)\n",
    "print('stat=%.3f, p=%.3f' % (stat, p))\n",
    "if p > 0.05:\n",
    "\tprint('Probably the same distribution')\n",
    "else:\n",
    "\tprint('Probably different distributions')"
   ]
  },
  {
   "cell_type": "markdown",
   "id": "92d9c21d",
   "metadata": {},
   "source": [
    "**R:** Se rechaza Ho ya que p = 0.000 < 5%, por la tanto las distribuciones entre las 3 muestras no son iguales."
   ]
  },
  {
   "cell_type": "code",
   "execution_count": 61,
   "id": "a4e4ed32",
   "metadata": {},
   "outputs": [
    {
     "data": {
      "text/plain": [
       "(array([ 1.,  2.,  4.,  6.,  6., 12.,  9., 10.,  6.,  3.,  7.,  7.,  6.,\n",
       "         7.,  3.,  1.,  2.,  1.,  4.,  1.]),\n",
       " array([18. , 21.6, 25.2, 28.8, 32.4, 36. , 39.6, 43.2, 46.8, 50.4, 54. ,\n",
       "        57.6, 61.2, 64.8, 68.4, 72. , 75.6, 79.2, 82.8, 86.4, 90. ]),\n",
       " <BarContainer object of 20 artists>)"
      ]
     },
     "execution_count": 61,
     "metadata": {},
     "output_type": "execute_result"
    },
    {
     "data": {
      "image/png": "[encoded data removed]",
      "text/plain": [
       "<Figure size 432x288 with 1 Axes>"
      ]
     },
     "metadata": {
      "needs_background": "light"
     },
     "output_type": "display_data"
    }
   ],
   "source": [
    "plt.hist(data1, 20)\n",
    "plt.hist(data2, 20)\n",
    "plt.hist(data3, 20)"
   ]
  }
 ],
 "metadata": {
  "kernelspec": {
   "display_name": "Python 3 (ipykernel)",
   "language": "python",
   "name": "python3"
  },
  "language_info": {
   "codemirror_mode": {
    "name": "ipython",
    "version": 3
   },
   "file_extension": ".py",
   "mimetype": "text/x-python",
   "name": "python",
   "nbconvert_exporter": "python",
   "pygments_lexer": "ipython3",
   "version": "3.9.7"
  }
 },
 "nbformat": 4,
 "nbformat_minor": 5
}
